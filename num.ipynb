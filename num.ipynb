{
 "cells": [
  {
   "cell_type": "code",
   "execution_count": 2,
   "id": "803c6902-2634-4a54-9906-1a29ae357720",
   "metadata": {},
   "outputs": [
    {
     "name": "stdout",
     "output_type": "stream",
     "text": [
      "140728092300200\n"
     ]
    }
   ],
   "source": [
    "a=5 #5 is assigner to a\n",
    "print(id(a))\n",
    "#no pointer is used in python\n",
    "#pointer is called as reference in python"
   ]
  },
  {
   "cell_type": "code",
   "execution_count": 50,
   "id": "7034741f-01a8-405d-9e38-ab081a9c21ae",
   "metadata": {},
   "outputs": [
    {
     "name": "stdin",
     "output_type": "stream",
     "text": [
      "A= lcdsjkf\n"
     ]
    },
    {
     "name": "stdout",
     "output_type": "stream",
     "text": [
      "\n"
     ]
    }
   ],
   "source": [
    "input(\"A=\")\n",
    "\n",
    "print()"
   ]
  },
  {
   "cell_type": "code",
   "execution_count": 4,
   "id": "3fd36b63-d1d3-44d2-90dd-f973b00ae1b9",
   "metadata": {},
   "outputs": [
    {
     "name": "stdin",
     "output_type": "stream",
     "text": [
      " 5\n"
     ]
    },
    {
     "name": "stdout",
     "output_type": "stream",
     "text": [
      "5\n",
      "<class 'str'>\n"
     ]
    }
   ],
   "source": [
    "#number as input\n",
    "\n",
    "x=input()\n",
    "print(x)\n",
    "\n",
    "print(type(x))"
   ]
  },
  {
   "cell_type": "code",
   "execution_count": 6,
   "id": "468b178a-3c8e-457c-8076-7dd623eb6329",
   "metadata": {},
   "outputs": [
    {
     "name": "stdout",
     "output_type": "stream",
     "text": [
      "5.0\n",
      "<class 'float'>\n"
     ]
    }
   ],
   "source": [
    "y=float(x)\n",
    "print(y)\n",
    "print(type(y))"
   ]
  },
  {
   "cell_type": "code",
   "execution_count": null,
   "id": "cbfb0a6c-8334-4bb8-9dcf-ae32e14ac2f7",
   "metadata": {},
   "outputs": [],
   "source": [
    "print(12.5, 7374, '8y37yry83r', '42dfesyfg')"
   ]
  },
  {
   "cell_type": "markdown",
   "id": "08571885-425d-4c04-90af-11bcc94a6652",
   "metadata": {
    "editable": true,
    "slideshow": {
     "slide_type": ""
    },
    "tags": []
   },
   "source": [
    "operator"
   ]
  },
  {
   "cell_type": "code",
   "execution_count": 6,
   "id": "0dc15625-eb46-4c5c-8d9e-8ce146352367",
   "metadata": {},
   "outputs": [],
   "source": [
    "a=5\n",
    "b=3"
   ]
  },
  {
   "cell_type": "code",
   "execution_count": 8,
   "id": "9bf3b678-f189-4d38-a81c-cfa0357fc091",
   "metadata": {},
   "outputs": [
    {
     "data": {
      "text/plain": [
       "2"
      ]
     },
     "execution_count": 8,
     "metadata": {},
     "output_type": "execute_result"
    }
   ],
   "source": [
    "a-b"
   ]
  },
  {
   "cell_type": "code",
   "execution_count": 10,
   "id": "9e98de24-00ca-46ef-8477-643873ae1b76",
   "metadata": {},
   "outputs": [
    {
     "data": {
      "text/plain": [
       "8"
      ]
     },
     "execution_count": 10,
     "metadata": {},
     "output_type": "execute_result"
    }
   ],
   "source": [
    "a+b"
   ]
  },
  {
   "cell_type": "code",
   "execution_count": 12,
   "id": "b3715e1d-1e71-4058-a229-2ebe0d418ed6",
   "metadata": {},
   "outputs": [
    {
     "data": {
      "text/plain": [
       "1.6666666666666667"
      ]
     },
     "execution_count": 12,
     "metadata": {},
     "output_type": "execute_result"
    }
   ],
   "source": [
    "a/b"
   ]
  },
  {
   "cell_type": "code",
   "execution_count": null,
   "id": "0776785e-5c22-4e98-aace-81305e6aba64",
   "metadata": {},
   "outputs": [],
   "source": [
    "#didvision operator is always give float value "
   ]
  },
  {
   "cell_type": "code",
   "execution_count": 18,
   "id": "c9651cbb-b7a1-44c7-a783-914710ec895e",
   "metadata": {},
   "outputs": [
    {
     "data": {
      "text/plain": [
       "2"
      ]
     },
     "execution_count": 18,
     "metadata": {},
     "output_type": "execute_result"
    }
   ],
   "source": [
    "a%b"
   ]
  },
  {
   "cell_type": "code",
   "execution_count": 20,
   "id": "1afa28f2-0b8d-49dd-84eb-8b31f61f477c",
   "metadata": {},
   "outputs": [
    {
     "data": {
      "text/plain": [
       "15"
      ]
     },
     "execution_count": 20,
     "metadata": {},
     "output_type": "execute_result"
    }
   ],
   "source": [
    "a*b\n",
    "\n",
    "\n"
   ]
  },
  {
   "cell_type": "markdown",
   "id": "19f6f72f-a2a8-4fcd-b217-82a9d8e0dedb",
   "metadata": {},
   "source": [
    "#string concatenation amd multiplication"
   ]
  },
  {
   "cell_type": "code",
   "execution_count": 43,
   "id": "e054ade5-7d0d-40b2-ac8e-5c5c55579e3f",
   "metadata": {},
   "outputs": [],
   "source": [
    "name1='Swarup'\n",
    "name2='and you'\n",
    "name3='will help each other'"
   ]
  },
  {
   "cell_type": "code",
   "execution_count": 55,
   "id": "a611a590-5ea3-4c24-9b03-d98621575e19",
   "metadata": {},
   "outputs": [
    {
     "name": "stdout",
     "output_type": "stream",
     "text": [
      "Swarupand youwill help each other\n"
     ]
    }
   ],
   "source": [
    "print(name1+name2+name3)"
   ]
  },
  {
   "cell_type": "markdown",
   "id": "02b4cf8d-b259-4251-a102-bc6e07cd9407",
   "metadata": {},
   "source": [
    "#did you notce the space imbalance here ????\n",
    "'''NOw we have a solution dear all\n",
    "introducinggggggggg\n",
    "Extra Space and .join() '''"
   ]
  },
  {
   "cell_type": "code",
   "execution_count": 62,
   "id": "724b5f19-ce93-4773-b461-55300ede2c8b",
   "metadata": {},
   "outputs": [],
   "source": [
    "name1='Swarup '\n",
    "name2='and you '\n",
    "name3='will help each other.'"
   ]
  },
  {
   "cell_type": "code",
   "execution_count": 64,
   "id": "867b92cd-c833-4017-97e2-3c82739c9f18",
   "metadata": {},
   "outputs": [
    {
     "name": "stdout",
     "output_type": "stream",
     "text": [
      "Swarup and you will help each other.\n"
     ]
    }
   ],
   "source": [
    "print(name1+name2+name3)"
   ]
  },
  {
   "cell_type": "code",
   "execution_count": 80,
   "id": "85fecae6-72f5-483f-a99b-bdb5611195df",
   "metadata": {},
   "outputs": [],
   "source": [
    "#.join()  REMEMBER TO INCLUDE SPACE WITHIN STRINGSSSSSS\n",
    "'''name1='Swarup '\n",
    "name2='and you '\n",
    "name3='will help each other.'\n",
    "HELLLLL!!!!NOOOOOOOOOO\n",
    "'''\n",
    "string=['Swarup ','and you ','will help each other']\n",
    "result=''.join(string)"
   ]
  },
  {
   "cell_type": "code",
   "execution_count": 82,
   "id": "85933532-cd97-42d1-b122-c7bca1ed566d",
   "metadata": {},
   "outputs": [
    {
     "name": "stdout",
     "output_type": "stream",
     "text": [
      "Swarup and you will help each other\n"
     ]
    }
   ],
   "source": [
    "print(result)"
   ]
  },
  {
   "cell_type": "markdown",
   "id": "97a20607-895f-4dc6-97ee-9de30802d878",
   "metadata": {},
   "source": [
    "Multiplication of stringsssss!!!!Ayoooo wtf!!!!!\n",
    "\n"
   ]
  },
  {
   "cell_type": "markdown",
   "id": "862b6407-282f-476d-889b-fc28eb307966",
   "metadata": {},
   "source": [
    "Voila!!Yaaah it is possibleeee"
   ]
  },
  {
   "cell_type": "code",
   "execution_count": 92,
   "id": "90b67bb7-3f3a-4982-9312-cf338681693a",
   "metadata": {},
   "outputs": [
    {
     "data": {
      "text/plain": [
       "'RahulRahulRahul'"
      ]
     },
     "execution_count": 92,
     "metadata": {},
     "output_type": "execute_result"
    }
   ],
   "source": [
    "name='Rahul' #never miss to recognise string value inside double quotes or single qoutes\n",
    "name*3"
   ]
  },
  {
   "cell_type": "markdown",
   "id": "3c9d55df-d2a2-4fe1-82cb-fc77a3f526c1",
   "metadata": {},
   "source": [
    "comparison operator"
   ]
  },
  {
   "cell_type": "code",
   "execution_count": 96,
   "id": "cb7bf13f-a4a9-49db-b78e-657a4d244d3d",
   "metadata": {},
   "outputs": [],
   "source": [
    "a=2\n",
    "b=5"
   ]
  },
  {
   "cell_type": "code",
   "execution_count": 98,
   "id": "ff8ae873-0b84-4daa-a3a0-cac56bd99328",
   "metadata": {},
   "outputs": [
    {
     "name": "stdout",
     "output_type": "stream",
     "text": [
      "True\n"
     ]
    }
   ],
   "source": [
    "print(a!=b)"
   ]
  },
  {
   "cell_type": "code",
   "execution_count": 102,
   "id": "1e16028e-94b9-4d48-90cb-e8aa166a75f7",
   "metadata": {},
   "outputs": [
    {
     "name": "stdout",
     "output_type": "stream",
     "text": [
      "False\n"
     ]
    }
   ],
   "source": [
    "print(a==b)"
   ]
  },
  {
   "cell_type": "code",
   "execution_count": 104,
   "id": "19a32c2b-464c-4d74-b0e8-9433796cecea",
   "metadata": {},
   "outputs": [
    {
     "name": "stdout",
     "output_type": "stream",
     "text": [
      "False\n"
     ]
    }
   ],
   "source": [
    "print(a>b)"
   ]
  },
  {
   "cell_type": "code",
   "execution_count": 106,
   "id": "4137fc74-31f6-45ed-92f1-74d98f7d3674",
   "metadata": {},
   "outputs": [
    {
     "name": "stdout",
     "output_type": "stream",
     "text": [
      "True\n"
     ]
    }
   ],
   "source": [
    "print(a<b)"
   ]
  },
  {
   "cell_type": "code",
   "execution_count": 108,
   "id": "24b8440f-8d17-4b75-a735-2bf36b7bd8c9",
   "metadata": {},
   "outputs": [
    {
     "name": "stdout",
     "output_type": "stream",
     "text": [
      "True\n"
     ]
    }
   ],
   "source": [
    "print(a<=b)"
   ]
  },
  {
   "cell_type": "markdown",
   "id": "e6ebf9c1-3fe4-45f0-b2f0-41ae565b3c5e",
   "metadata": {},
   "source": [
    "ASSIGNMENT OPERATOR"
   ]
  },
  {
   "cell_type": "code",
   "execution_count": 133,
   "id": "71a35b23-7ddd-4dd8-bacd-721101b73c3c",
   "metadata": {},
   "outputs": [],
   "source": [
    "a=5"
   ]
  },
  {
   "cell_type": "code",
   "execution_count": 113,
   "id": "3b451a2d-8fa9-42aa-8b31-dd2cd2235c1d",
   "metadata": {},
   "outputs": [
    {
     "name": "stdout",
     "output_type": "stream",
     "text": [
      "8\n"
     ]
    }
   ],
   "source": [
    "a=a+3\n",
    "print(a)"
   ]
  },
  {
   "cell_type": "code",
   "execution_count": 131,
   "id": "e70b16a3-2754-410e-9762-8a325f4a442f",
   "metadata": {},
   "outputs": [
    {
     "name": "stdout",
     "output_type": "stream",
     "text": [
      "32\n"
     ]
    }
   ],
   "source": [
    "#a=a+3 is same as a+=3\n",
    "a+=3\n",
    "print(a)"
   ]
  },
  {
   "cell_type": "markdown",
   "id": "18bc6cd9-9df3-44bc-b50f-32eb6d1f1dce",
   "metadata": {},
   "source": [
    "LOGIAL OPERATOR"
   ]
  },
  {
   "cell_type": "code",
   "execution_count": 137,
   "id": "b84b5790-d480-4070-89ec-7e75000b412c",
   "metadata": {
    "editable": true,
    "slideshow": {
     "slide_type": ""
    },
    "tags": []
   },
   "outputs": [],
   "source": [
    "#and\n",
    "\n",
    "a=8\n",
    "b=9\n"
   ]
  },
  {
   "cell_type": "code",
   "execution_count": 139,
   "id": "77ccc945-b18f-4366-a046-a09b4d601ae7",
   "metadata": {},
   "outputs": [
    {
     "data": {
      "text/plain": [
       "False"
      ]
     },
     "execution_count": 139,
     "metadata": {},
     "output_type": "execute_result"
    }
   ],
   "source": [
    "a>b and b<a"
   ]
  },
  {
   "cell_type": "code",
   "execution_count": 6,
   "id": "174f9f05-90f5-4eb0-ad21-558e5f4b4fb3",
   "metadata": {},
   "outputs": [
    {
     "data": {
      "text/plain": [
       "True"
      ]
     },
     "execution_count": 6,
     "metadata": {},
     "output_type": "execute_result"
    }
   ],
   "source": [
    "a=3\n",
    "b=9\n",
    "\n",
    "a<b or b<a"
   ]
  },
  {
   "cell_type": "code",
   "execution_count": 12,
   "id": "27222da4-fd29-4e9a-b734-5f2b9a5d127c",
   "metadata": {},
   "outputs": [
    {
     "data": {
      "text/plain": [
       "False"
      ]
     },
     "execution_count": 12,
     "metadata": {},
     "output_type": "execute_result"
    }
   ],
   "source": [
    "a=4\n",
    "b=1\n",
    "\n",
    "\n",
    "not a>b"
   ]
  },
  {
   "cell_type": "code",
   "execution_count": 14,
   "id": "9b0b9936-f1c2-4ddd-82f9-41bb2fd1fcff",
   "metadata": {},
   "outputs": [
    {
     "data": {
      "text/plain": [
       "True"
      ]
     },
     "execution_count": 14,
     "metadata": {},
     "output_type": "execute_result"
    }
   ],
   "source": [
    "not a<b"
   ]
  },
  {
   "cell_type": "markdown",
   "id": "5653b589-2529-4900-aaef-565465c30e8a",
   "metadata": {},
   "source": [
    "special operator"
   ]
  },
  {
   "cell_type": "code",
   "execution_count": 21,
   "id": "16b23d80-0f6c-46fa-8838-e7397addb5a8",
   "metadata": {},
   "outputs": [],
   "source": [
    "#in operator\n",
    "name='Rahul Sharma'"
   ]
  },
  {
   "cell_type": "code",
   "execution_count": 23,
   "id": "e1740a43-4994-415c-bcfe-2441c49107e2",
   "metadata": {},
   "outputs": [
    {
     "data": {
      "text/plain": [
       "True"
      ]
     },
     "execution_count": 23,
     "metadata": {},
     "output_type": "execute_result"
    }
   ],
   "source": [
    "'R' in name"
   ]
  },
  {
   "cell_type": "code",
   "execution_count": 25,
   "id": "8a177487-1a4f-4438-8e8c-8738e5e0bae1",
   "metadata": {},
   "outputs": [
    {
     "data": {
      "text/plain": [
       "False"
      ]
     },
     "execution_count": 25,
     "metadata": {},
     "output_type": "execute_result"
    }
   ],
   "source": [
    "'x' in name"
   ]
  },
  {
   "cell_type": "code",
   "execution_count": 27,
   "id": "0a47bb57-6982-4080-9b8d-2b4c349bc388",
   "metadata": {},
   "outputs": [
    {
     "data": {
      "text/plain": [
       "True"
      ]
     },
     "execution_count": 27,
     "metadata": {},
     "output_type": "execute_result"
    }
   ],
   "source": [
    "'Rahul' in name"
   ]
  },
  {
   "cell_type": "code",
   "execution_count": null,
   "id": "35699745-e8ee-4a13-970c-e7f691fba043",
   "metadata": {},
   "outputs": [],
   "source": [
    "#is operator tells you if both the object are at the same memory location????/\n"
   ]
  },
  {
   "cell_type": "code",
   "execution_count": 30,
   "id": "48e10cb9-a17e-4f36-93b6-a128d4b9b8d2",
   "metadata": {},
   "outputs": [
    {
     "name": "stdout",
     "output_type": "stream",
     "text": [
      "140733235696552 140733235696552\n"
     ]
    }
   ],
   "source": [
    "a= 5\n",
    "b= 5\n",
    "\n",
    "print(id(a), id(b))"
   ]
  },
  {
   "cell_type": "code",
   "execution_count": 32,
   "id": "d93e8b7f-6c20-486a-a26c-6e451ec0db30",
   "metadata": {},
   "outputs": [
    {
     "data": {
      "text/plain": [
       "True"
      ]
     },
     "execution_count": 32,
     "metadata": {},
     "output_type": "execute_result"
    }
   ],
   "source": [
    "a is b"
   ]
  },
  {
   "cell_type": "code",
   "execution_count": 34,
   "id": "14ee3aea-8fcc-4ef3-bfe3-60da72bf6501",
   "metadata": {},
   "outputs": [
    {
     "name": "stdout",
     "output_type": "stream",
     "text": [
      "140733235696776 1713167242096\n"
     ]
    }
   ],
   "source": [
    "a =12\n",
    "b= 8487\n",
    "print(id(a), id(b))"
   ]
  },
  {
   "cell_type": "code",
   "execution_count": 36,
   "id": "9e3c0656-6213-4536-addf-91d0de219773",
   "metadata": {},
   "outputs": [
    {
     "data": {
      "text/plain": [
       "False"
      ]
     },
     "execution_count": 36,
     "metadata": {},
     "output_type": "execute_result"
    }
   ],
   "source": [
    "a is b \n"
   ]
  },
  {
   "cell_type": "code",
   "execution_count": 38,
   "id": "738ca45d-38eb-4a54-afbc-adc6c34fd8a0",
   "metadata": {},
   "outputs": [
    {
     "name": "stdin",
     "output_type": "stream",
     "text": [
      "Enter the radius of the Sphere: 8\n"
     ]
    },
    {
     "name": "stdout",
     "output_type": "stream",
     "text": [
      "Volume of the Sphere is: 2145.52\n"
     ]
    }
   ],
   "source": [
    "def volume_sphere(r):\n",
    "    '''input: r = Input in integer format\n",
    "       output:return Vol of sphere upto two decimals'''\n",
    "    # YOUR CODE GOES HERE\n",
    "    Vol=(4/3)*(22/7)*r*r*r\n",
    "    \n",
    "    \n",
    "    \n",
    "    return round(Vol,2)\n",
    "r=float(input(\"Enter the radius of the Sphere:\"))\n",
    "Vol=volume_sphere(r)\n",
    "print(\"Volume of the Sphere is:\", Vol)"
   ]
  },
  {
   "cell_type": "code",
   "execution_count": 40,
   "id": "c61ae333-1ec7-409e-bc31-76766901fc36",
   "metadata": {},
   "outputs": [
    {
     "name": "stdout",
     "output_type": "stream",
     "text": [
      "523.81\n"
     ]
    }
   ],
   "source": [
    "r=5\n",
    "Vol=volume_sphere(r)\n",
    "print(Vol)"
   ]
  },
  {
   "cell_type": "code",
   "execution_count": 52,
   "id": "f59536e0-e85a-4b42-b938-38eb293846d1",
   "metadata": {},
   "outputs": [
    {
     "name": "stdin",
     "output_type": "stream",
     "text": [
      " Interview\n",
      " BIt\n"
     ]
    },
    {
     "name": "stdout",
     "output_type": "stream",
     "text": [
      "Concatenated string: InterviewBIt\n"
     ]
    }
   ],
   "source": [
    "def concatenate_strings(A, B):\n",
    "  \"\"\"Concatenates two strings.\n",
    "\n",
    "  Args:\n",
    "    A: The first string.\n",
    "    B: The second string.\n",
    "\n",
    "  Returns:\n",
    "    The concatenated string.\n",
    "  \"\"\"\n",
    "\n",
    "  concatenated_string = A + B\n",
    "  return concatenated_string\n",
    "\n",
    "# Get input strings from the user\n",
    "A = input()\n",
    "B = input()\n",
    "\n",
    "# Concatenate the strings\n",
    "result = concatenate_strings(A, B)\n",
    "\n",
    "# Print the concatenated string\n",
    "print(\"Concatenated string:\", result)"
   ]
  },
  {
   "cell_type": "code",
   "execution_count": 54,
   "id": "5bb72182-121c-4486-b54d-4512d9e6ad20",
   "metadata": {},
   "outputs": [
    {
     "name": "stdout",
     "output_type": "stream",
     "text": [
      "1\n"
     ]
    }
   ],
   "source": [
    "print(0 or 1)\n"
   ]
  },
  {
   "cell_type": "code",
   "execution_count": 56,
   "id": "39f661ed-2968-4d56-a675-de1d30f5b038",
   "metadata": {},
   "outputs": [
    {
     "name": "stdout",
     "output_type": "stream",
     "text": [
      "<class 'float'>\n"
     ]
    }
   ],
   "source": [
    "print(type(6 / 3))\n"
   ]
  },
  {
   "cell_type": "markdown",
   "id": "7fefd2a7-521d-4091-8b8e-e8fc36ef4766",
   "metadata": {},
   "source": [
    "IF_ELSE"
   ]
  },
  {
   "cell_type": "code",
   "execution_count": 20,
   "id": "4a19eace-988d-4e0d-9e26-30ba612ac3f5",
   "metadata": {},
   "outputs": [
    {
     "name": "stdin",
     "output_type": "stream",
     "text": [
      "Enter the age: 12\n"
     ]
    },
    {
     "name": "stdout",
     "output_type": "stream",
     "text": [
      "YOU CANNOT DRIVE\n"
     ]
    }
   ],
   "source": [
    "age = int(input(\"Enter the age:\"))\n",
    "if age>= 18:\n",
    "    print(\"YOU CAN DRIVE\")\n",
    "\n",
    "else:\n",
    "    print(\"YOU CANNOT DRIVE\")"
   ]
  },
  {
   "cell_type": "markdown",
   "id": "d5d40bf7-e8b7-4f01-b804-4046c021c7f0",
   "metadata": {},
   "source": [
    "NESTED IF"
   ]
  },
  {
   "cell_type": "code",
   "execution_count": 17,
   "id": "60a66461-edc4-454b-9469-21b0486c4f55",
   "metadata": {},
   "outputs": [
    {
     "name": "stdin",
     "output_type": "stream",
     "text": [
      "Enter the age: 12\n"
     ]
    },
    {
     "name": "stdout",
     "output_type": "stream",
     "text": [
      "YOU CANNOT DRIVE\n"
     ]
    }
   ],
   "source": [
    "age = int(input(\"Enter the age:\"))\n",
    "if age>= 18:\n",
    "    if age>=60:\n",
    "        print(\"Hire a driver. It is not safe around\")\n",
    "    else:\n",
    "        print(\"YOU CAN DRIVE\")\n",
    "\n",
    "else:\n",
    "    print(\"YOU CANNOT DRIVE\")"
   ]
  },
  {
   "cell_type": "markdown",
   "id": "b0747666-6778-440a-8303-70ba21c79fcf",
   "metadata": {},
   "source": [
    "IF,ELIF AND ELSE"
   ]
  },
  {
   "cell_type": "code",
   "execution_count": 41,
   "id": "f3abe62d-8ee2-4c69-ab3c-a4c9e79d901f",
   "metadata": {},
   "outputs": [
    {
     "data": {
      "text/plain": [
       "30"
      ]
     },
     "execution_count": 41,
     "metadata": {},
     "output_type": "execute_result"
    }
   ],
   "source": [
    "#print the largest number\n",
    "marks=[90,30,100,50,80,95,37,94,62,74,94,65,72,83,75,32,65,39,75,63,39,64,89]\n",
    "\n",
    "'''highest=marks[0]\n",
    "for i in marks:\n",
    "    if i>highest:\n",
    "        highest=i\n",
    "\n",
    "print(highest)'''\n",
    "\n",
    "#using max() min()\n",
    "max(marks)\n",
    "min(marks)\n"
   ]
  },
  {
   "cell_type": "code",
   "execution_count": 49,
   "id": "33c1bb33-c26a-4462-93e1-a1e6f51e8e1c",
   "metadata": {},
   "outputs": [
    {
     "name": "stdin",
     "output_type": "stream",
     "text": [
      "enter your number: 85\n"
     ]
    },
    {
     "name": "stdout",
     "output_type": "stream",
     "text": [
      "Grade B\n"
     ]
    }
   ],
   "source": [
    "#grading system\n",
    "marks=float(input(\"enter your number:\"))\n",
    "\n",
    "if marks>=90:\n",
    "    print(\"Grade A\")\n",
    "if marks>80 and marks<90:\n",
    "    print(\"Grade B\")\n",
    "if marks>70 and marks<80:\n",
    "    print(\"Grade C\")\n",
    "if marks>60 and marks<70:\n",
    "    print(\"Grade D\")\n",
    "if marks<60:\n",
    "    print(\"Grade E\")"
   ]
  },
  {
   "cell_type": "code",
   "execution_count": 81,
   "id": "da855773-a670-4e69-ba5b-0473addb5e76",
   "metadata": {},
   "outputs": [
    {
     "name": "stdin",
     "output_type": "stream",
     "text": [
      "Enter the year:  2020\n"
     ]
    },
    {
     "name": "stdout",
     "output_type": "stream",
     "text": [
      "2020 is a leap year\n"
     ]
    }
   ],
   "source": [
    "'''Problem Description\n",
    "\n",
    "Given an integer A representing a year, Return 1 if it is a leap year else, return 0.\n",
    "\n",
    "A year is a leap year if the following conditions are satisfied:\n",
    "\n",
    "The year is multiple of 400.\n",
    "or the year is multiple of 4 and not multiple of 100.'''\n",
    "#class Solution:\n",
    "    # @param A : integer\n",
    "    # @return an integer\n",
    "def solve(A):\n",
    "    if (A % 400 == 0) or (A % 4 == 0 and A % 100 != 0): \n",
    "        return 1  # Leap year\\\n",
    "    else:\n",
    "        return 0  # Not a leap year\n",
    "# Get user input\n",
    "A= int(input(\"Enter the year: \"))\n",
    "\n",
    "# Check if it's a leap year and print the result\n",
    "if solve(A):\n",
    "    print(A,\"is a leap year\")\n",
    "else:\n",
    "    print(A,\"is not a leap year\")"
   ]
  },
  {
   "cell_type": "markdown",
   "id": "f48ee0aa-d979-474c-93a8-1829422d286b",
   "metadata": {},
   "source": [
    "loop"
   ]
  },
  {
   "cell_type": "code",
   "execution_count": 1,
   "id": "63a48482-ce91-49db-99b4-9376de1bfe34",
   "metadata": {},
   "outputs": [
    {
     "name": "stdout",
     "output_type": "stream",
     "text": [
      "Fuk uh\n",
      "Fuk uh\n",
      "Fuk uh\n",
      "Fuk uh\n",
      "Fuk uh\n",
      "Fuk uh\n",
      "Fuk uh\n"
     ]
    }
   ],
   "source": [
    "#initialization\n",
    "i =1\n",
    "while i<=7: #condtion\n",
    "    print(\"Fuk uh\")\n",
    "\n",
    "    i+=1 #updation\n"
   ]
  },
  {
   "cell_type": "code",
   "execution_count": 8,
   "id": "a7516ec2-4b6f-4d1d-a5eb-f860304c5eeb",
   "metadata": {},
   "outputs": [
    {
     "name": "stdout",
     "output_type": "stream",
     "text": [
      "1 2 3 4 5 6 7 8 9 10 "
     ]
    }
   ],
   "source": [
    "i=1\n",
    "while i<=10:\n",
    "    print(i, end=\" \")\n",
    "    i+=1"
   ]
  },
  {
   "cell_type": "code",
   "execution_count": 10,
   "id": "a243686d-dbfc-42e6-b8ba-a6f1a42ec20e",
   "metadata": {},
   "outputs": [
    {
     "name": "stdout",
     "output_type": "stream",
     "text": [
      "2 4 6 8 10 "
     ]
    }
   ],
   "source": [
    "i=1\n",
    "while i<=10:\n",
    "    if i%2==0:\n",
    "    \n",
    "        print(i, end=\" \")\n",
    "    i+=1"
   ]
  },
  {
   "cell_type": "code",
   "execution_count": 18,
   "id": "8a1a9ea3-bdab-4408-a727-4b162366fb6a",
   "metadata": {},
   "outputs": [
    {
     "name": "stdout",
     "output_type": "stream",
     "text": [
      "55\n"
     ]
    }
   ],
   "source": [
    "i=1\n",
    "add=0\n",
    "while i<=10:\n",
    "    \n",
    "    #print(i, end=\" \")\n",
    "    add+=i\n",
    "    i+=1\n",
    "\n",
    "print(add)"
   ]
  },
  {
   "cell_type": "code",
   "execution_count": 20,
   "id": "a8fffa67-71e2-494d-8c93-051e2bd040e0",
   "metadata": {},
   "outputs": [
    {
     "data": {
      "text/plain": [
       "[1, 2, 3, 4, 5, 6, 7, 8, 9, 10, 11]"
      ]
     },
     "execution_count": 20,
     "metadata": {},
     "output_type": "execute_result"
    }
   ],
   "source": [
    "#range function\n",
    "#range(start,end,jump) default jump is 1\n",
    "list(range(1,12))\n"
   ]
  },
  {
   "cell_type": "code",
   "execution_count": 22,
   "id": "8c303028-aa83-460e-8c66-439f27e36821",
   "metadata": {},
   "outputs": [
    {
     "data": {
      "text/plain": [
       "[0, 1, 2, 3, 4, 5, 6, 7, 8, 9, 10, 11]"
      ]
     },
     "execution_count": 22,
     "metadata": {},
     "output_type": "execute_result"
    }
   ],
   "source": [
    "list(range(0,12))"
   ]
  },
  {
   "cell_type": "code",
   "execution_count": 26,
   "id": "fc832dbb-92e1-4808-886e-0b595baf6d15",
   "metadata": {},
   "outputs": [
    {
     "data": {
      "text/plain": [
       "[0, 2, 4, 6, 8, 10]"
      ]
     },
     "execution_count": 26,
     "metadata": {},
     "output_type": "execute_result"
    }
   ],
   "source": [
    "list(range(0,12,2))"
   ]
  },
  {
   "cell_type": "code",
   "execution_count": 34,
   "id": "d987202e-d3cd-4254-948d-ff228349df46",
   "metadata": {},
   "outputs": [
    {
     "name": "stdin",
     "output_type": "stream",
     "text": [
      "Enter the number:  5\n"
     ]
    },
    {
     "name": "stdout",
     "output_type": "stream",
     "text": [
      "5\n",
      "10\n",
      "15\n",
      "20\n",
      "25\n",
      "30\n",
      "35\n",
      "40\n",
      "45\n",
      "50\n"
     ]
    }
   ],
   "source": [
    "#multiplication table\n",
    "num=int(input(\"Enter the number: \"))\n",
    "for i in range(1,11):\n",
    "    i*=num\n",
    "    print(i)"
   ]
  },
  {
   "cell_type": "code",
   "execution_count": 46,
   "id": "b65863ee-ee0a-4578-b05b-d7957ae888ce",
   "metadata": {},
   "outputs": [
    {
     "name": "stdout",
     "output_type": "stream",
     "text": [
      "# # # # # \n",
      "# # # # # \n",
      "# # # # # \n",
      "# # # # # \n",
      "# # # # # \n"
     ]
    }
   ],
   "source": [
    "#print # particular shape(square) overwhelming part of iteration\n",
    "\n",
    "for i in range(5):\n",
    "    print(\"#\",end=' ')\n",
    "print()\n",
    "for i in range(5):\n",
    "    print(\"#\",end=' ')\n",
    "print()\n",
    "for i in range(5):\n",
    "    print(\"#\",end=' ')\n",
    "print()\n",
    "for i in range(5):\n",
    "    print(\"#\",end=' ')\n",
    "print()\n",
    "for i in range(5):\n",
    "    print(\"#\",end=' ')\n",
    "print()"
   ]
  },
  {
   "cell_type": "code",
   "execution_count": 66,
   "id": "c06ee226-a1c8-4427-a828-d490b5112a05",
   "metadata": {},
   "outputs": [
    {
     "name": "stdin",
     "output_type": "stream",
     "text": [
      "Input the number:  9\n"
     ]
    },
    {
     "name": "stdout",
     "output_type": "stream",
     "text": [
      "# # # # # # # # # \n",
      "# # # # # # # # # \n",
      "# # # # # # # # # \n",
      "# # # # # # # # # \n",
      "# # # # # # # # # \n",
      "# # # # # # # # # \n",
      "# # # # # # # # # \n",
      "# # # # # # # # # \n",
      "# # # # # # # # # \n"
     ]
    }
   ],
   "source": [
    "#we can iterate the program once by doing this \n",
    "num=int(input(\"Input the number: \"))\n",
    "for i in range(num):\n",
    "    for j in range(num):\n",
    "        print(\"#\",end=' ')\n",
    "    print()"
   ]
  },
  {
   "cell_type": "code",
   "execution_count": 72,
   "id": "c7c32419-b3d8-4f07-b06a-650942b47698",
   "metadata": {},
   "outputs": [
    {
     "name": "stdin",
     "output_type": "stream",
     "text": [
      "Input the number:  9\n"
     ]
    },
    {
     "name": "stdout",
     "output_type": "stream",
     "text": [
      "# \n",
      "# \n",
      "# \n",
      "# \n",
      "# \n",
      "# \n",
      "# \n",
      "# \n",
      "# \n"
     ]
    }
   ],
   "source": [
    "#we can iterate the program once by doing this \n",
    "num=int(input(\"Input the number: \"))\n",
    "#for i in range(num):\n",
    "for j in range(num):\n",
    "    print(\"#\",end=' ')    #expermental\n",
    "    print()"
   ]
  },
  {
   "cell_type": "code",
   "execution_count": 80,
   "id": "bce6de5f-2aba-473a-a40e-7815b493f57f",
   "metadata": {},
   "outputs": [
    {
     "name": "stdin",
     "output_type": "stream",
     "text": [
      "Enter the number of row you want:  3\n"
     ]
    },
    {
     "name": "stdout",
     "output_type": "stream",
     "text": [
      "* \n",
      "* * \n",
      "* * * \n"
     ]
    }
   ],
   "source": [
    "#half pyramid * printing\n",
    "num=int(input(\"Enter the number of row you want: \"))\n",
    "for i in range (1,num+1):\n",
    "    for j in range(i):\n",
    "        print('*',end=' ')\n",
    "    print()"
   ]
  },
  {
   "cell_type": "code",
   "execution_count": 82,
   "id": "545826a5-f610-4ec3-863d-e71cf108e754",
   "metadata": {},
   "outputs": [
    {
     "name": "stdout",
     "output_type": "stream",
     "text": [
      "69\n"
     ]
    }
   ],
   "source": [
    "for x in range(10):\n",
    "       if x == 6:\n",
    "           print(x,end=\"\")\n",
    "print(x)"
   ]
  },
  {
   "cell_type": "code",
   "execution_count": 89,
   "id": "3f9802e8-1bca-4823-990b-00e72a690de2",
   "metadata": {},
   "outputs": [
    {
     "name": "stdout",
     "output_type": "stream",
     "text": [
      "2\n"
     ]
    }
   ],
   "source": [
    "for i in range(4):\n",
    "    if i==2:\n",
    "        print(i)\n",
    "i=10"
   ]
  },
  {
   "cell_type": "code",
   "execution_count": 103,
   "id": "c14cd6df-e1f2-4a4b-b7f1-1508ca34b5a6",
   "metadata": {},
   "outputs": [],
   "source": []
  },
  {
   "cell_type": "code",
   "execution_count": null,
   "id": "ee8b864f-584c-4c41-960c-e587cf49eba5",
   "metadata": {},
   "outputs": [],
   "source": []
  },
  {
   "cell_type": "code",
   "execution_count": null,
   "id": "d6d6e112-2c5a-4852-860c-3b05e0cc1125",
   "metadata": {},
   "outputs": [],
   "source": []
  }
 ],
 "metadata": {
  "kernelspec": {
   "display_name": "Python 3 (ipykernel)",
   "language": "python",
   "name": "python3"
  },
  "language_info": {
   "codemirror_mode": {
    "name": "ipython",
    "version": 3
   },
   "file_extension": ".py",
   "mimetype": "text/x-python",
   "name": "python",
   "nbconvert_exporter": "python",
   "pygments_lexer": "ipython3",
   "version": "3.11.5"
  }
 },
 "nbformat": 4,
 "nbformat_minor": 5
}
